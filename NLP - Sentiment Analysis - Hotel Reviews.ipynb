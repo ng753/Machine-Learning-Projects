{
 "cells": [
  {
   "cell_type": "markdown",
   "id": "7bb4413c",
   "metadata": {},
   "source": [
    "# Hotel Reviews Sentiment Analysis"
   ]
  },
  {
   "cell_type": "markdown",
   "id": "fbf34d73",
   "metadata": {},
   "source": [
    "## Data Source"
   ]
  },
  {
   "cell_type": "markdown",
   "id": "7afc3f86",
   "metadata": {},
   "source": [
    "https://www.kaggle.com/datasets/andrewmvd/trip-advisor-hotel-reviews"
   ]
  },
  {
   "cell_type": "markdown",
   "id": "5e0adbd7",
   "metadata": {},
   "source": [
    "## Import Libraries"
   ]
  },
  {
   "cell_type": "code",
   "execution_count": 5,
   "id": "23b97b2a",
   "metadata": {},
   "outputs": [
    {
     "name": "stderr",
     "output_type": "stream",
     "text": [
      "[nltk_data] Downloading package vader_lexicon to\n",
      "[nltk_data]     /Users/nadezdagileva/nltk_data...\n"
     ]
    },
    {
     "data": {
      "text/plain": [
       "True"
      ]
     },
     "execution_count": 5,
     "metadata": {},
     "output_type": "execute_result"
    }
   ],
   "source": [
    "import pandas as pd\n",
    "import seaborn as sns\n",
    "import matplotlib.pyplot as plt\n",
    "from nltk.sentiment.vader import SentimentIntensityAnalyzer\n",
    "import nltk\n",
    "nltk.download('vader_lexicon')"
   ]
  },
  {
   "cell_type": "markdown",
   "id": "1c54f81b",
   "metadata": {},
   "source": [
    "## Load Data"
   ]
  },
  {
   "cell_type": "code",
   "execution_count": 14,
   "id": "22eae601",
   "metadata": {},
   "outputs": [
    {
     "name": "stdout",
     "output_type": "stream",
     "text": [
      "                                              Review  Rating\n",
      "0  nice hotel expensive parking got good deal sta...       4\n",
      "1  ok nothing special charge diamond member hilto...       2\n",
      "2  nice rooms not 4* experience hotel monaco seat...       3\n",
      "3  unique, great stay, wonderful time hotel monac...       5\n",
      "4  great stay great stay, went seahawk game aweso...       5\n"
     ]
    }
   ],
   "source": [
    "data = pd.read_csv(\"tripadvisor_hotel_reviews.csv\")\n",
    "print(data.head())"
   ]
  },
  {
   "cell_type": "markdown",
   "id": "ccb7377d",
   "metadata": {},
   "source": [
    "## Data Analysis"
   ]
  },
  {
   "cell_type": "code",
   "execution_count": 13,
   "id": "d76e0a96",
   "metadata": {},
   "outputs": [],
   "source": [
    "# Create a SentimentIntensityAnalyzer object\n",
    "sentiments = SentimentIntensityAnalyzer()"
   ]
  },
  {
   "cell_type": "code",
   "execution_count": 21,
   "id": "9095e039",
   "metadata": {},
   "outputs": [
    {
     "name": "stdout",
     "output_type": "stream",
     "text": [
      "Rating\n",
      "1    1421\n",
      "2    1793\n",
      "3    2184\n",
      "4    6039\n",
      "5    9054\n",
      "dtype: int64\n"
     ]
    },
    {
     "data": {
      "text/plain": [
       "<Axes: >"
      ]
     },
     "execution_count": 21,
     "metadata": {},
     "output_type": "execute_result"
    },
    {
     "data": {
      "image/png": "[encoded data removed]",
      "text/plain": [
       "<Figure size 600x600 with 1 Axes>"
      ]
     },
     "metadata": {},
     "output_type": "display_data"
    }
   ],
   "source": [
    "# Plot\n",
    "# Count the number of reviews by rating\n",
    "rating_counts = data.groupby(['Rating']).size()\n",
    "print(rating_counts)\n",
    "\n",
    "# Visualize the rating\n",
    "fig = plt.figure(figsize=(6,6), dpi=100)\n",
    "ax = plt.subplot(111)\n",
    "rating_counts.plot.pie(ax=ax, autopct='%1.1f%%', startangle=270, fontsize=12, label=\"\")"
   ]
  },
  {
   "cell_type": "code",
   "execution_count": 15,
   "id": "604af8f5",
   "metadata": {},
   "outputs": [
    {
     "name": "stdout",
     "output_type": "stream",
     "text": [
      "                                              Review  Rating  Positive (%)  \\\n",
      "0  nice hotel expensive parking got good deal sta...       4          28.5   \n",
      "1  ok nothing special charge diamond member hilto...       2          18.9   \n",
      "2  nice rooms not 4* experience hotel monaco seat...       3          21.9   \n",
      "3  unique, great stay, wonderful time hotel monac...       5          38.5   \n",
      "4  great stay great stay, went seahawk game aweso...       5          22.1   \n",
      "\n",
      "   Negative (%)  Neutral (%)  \n",
      "0           7.2         64.3  \n",
      "1          11.0         70.1  \n",
      "2           8.1         70.0  \n",
      "3           6.0         55.5  \n",
      "4          13.5         64.3  \n"
     ]
    }
   ],
   "source": [
    "# polarity_scores method of SentimentIntensityAnalyzer object gives a sentiment dictionary, \n",
    "# which contains pos, neg, neu and compound scores.\n",
    "sentiments = SentimentIntensityAnalyzer()\n",
    "data[\"Positive (%)\"] = [sentiments.polarity_scores(i)[\"pos\"]*100 for i in data[\"Review\"]]\n",
    "data[\"Negative (%)\"] = [sentiments.polarity_scores(i)[\"neg\"]*100 for i in data[\"Review\"]]\n",
    "data[\"Neutral (%)\"] = [sentiments.polarity_scores(i)[\"neu\"]*100 for i in data[\"Review\"]]\n",
    "print(data.head())"
   ]
  },
  {
   "cell_type": "code",
   "execution_count": 17,
   "id": "e2205d9c",
   "metadata": {},
   "outputs": [
    {
     "name": "stdout",
     "output_type": "stream",
     "text": [
      "Neutral 🙂 \n"
     ]
    }
   ],
   "source": [
    "# Decide sentiment as positive, negative and neutral\n",
    "x = sum(data[\"Positive (%)\"])\n",
    "y = sum(data[\"Negative (%)\"])\n",
    "z = sum(data[\"Neutral (%)\"])\n",
    "\n",
    "def sentiment_score(a, b, c):\n",
    "    if (a>b) and (a>c):\n",
    "        print(\"Positive 😊 \")\n",
    "    elif (b>a) and (b>c):\n",
    "        print(\"Negative 😠 \")\n",
    "    else:\n",
    "        print(\"Neutral 🙂 \")\n",
    "sentiment_score(x, y, z)"
   ]
  },
  {
   "cell_type": "code",
   "execution_count": null,
   "id": "553a9133",
   "metadata": {},
   "outputs": [],
   "source": []
  }
 ],
 "metadata": {
  "kernelspec": {
   "display_name": "Python 3 (ipykernel)",
   "language": "python",
   "name": "python3"
  },
  "language_info": {
   "codemirror_mode": {
    "name": "ipython",
    "version": 3
   },
   "file_extension": ".py",
   "mimetype": "text/x-python",
   "name": "python",
   "nbconvert_exporter": "python",
   "pygments_lexer": "ipython3",
   "version": "3.11.5"
  }
 },
 "nbformat": 4,
 "nbformat_minor": 5
}
